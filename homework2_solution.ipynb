{
 "cells": [
  {
   "cell_type": "code",
   "execution_count": 1,
   "metadata": {},
   "outputs": [],
   "source": [
    "import numpy as np\n",
    "import random\n",
    "import string\n",
    "import secrets\n",
    "import matplotlib.pyplot as plt"
   ]
  },
  {
   "cell_type": "markdown",
   "metadata": {
    "id": "nF0Ps19ADEAg"
   },
   "source": [
    "\n",
    "1. Use for loop to generate 3 random integers between 100 and 999 which is divisible by 5. \n",
    "\n"
   ]
  },
  {
   "cell_type": "code",
   "execution_count": 2,
   "metadata": {},
   "outputs": [
    {
     "name": "stdout",
     "output_type": "stream",
     "text": [
      "Generating 3 random integer number between 100 and 999 divisible by 5\n",
      "725, 310, 835, "
     ]
    }
   ],
   "source": [
    "# Get all numbers between 100-999 that are divisible by 5.\n",
    "nums = [i for i in range(100, 1000, 5)]\n",
    "\n",
    "# Get 3 random integers from `nums`\n",
    "print(\"Generating 3 random integer number between 100 and 999 divisible by 5\")\n",
    "for i in range(3):\n",
    "    print(np.random.choice(nums), end=', ')"
   ]
  },
  {
   "cell_type": "markdown",
   "metadata": {
    "id": "hyXLw2juDQBR"
   },
   "source": [
    "2.The Logistic distribution is used in Extreme Value problems where it can act as a mixture of Gumbel distributions. Draw samples from a logistic distribution and plot it. loc=10, scale=1 and size =1000. "
   ]
  },
  {
   "cell_type": "code",
   "execution_count": 3,
   "metadata": {},
   "outputs": [
    {
     "data": {
      "image/png": "[encoded data removed]",
      "text/plain": [
       "<Figure size 432x288 with 1 Axes>"
      ]
     },
     "metadata": {
      "needs_background": "light"
     },
     "output_type": "display_data"
    }
   ],
   "source": [
    "# Draw samples from the logistic distribution.\n",
    "sample = np.random.logistic(loc=10, scale=1, size=1000)\n",
    "\n",
    "# Make a histogram using the sample.\n",
    "plt.hist(sample);"
   ]
  },
  {
   "cell_type": "markdown",
   "metadata": {
    "id": "0jAtQnvcFn1g"
   },
   "source": [
    "3.\tGenerate 6 digit random secure OTP."
   ]
  },
  {
   "cell_type": "code",
   "execution_count": 4,
   "metadata": {},
   "outputs": [
    {
     "name": "stdout",
     "output_type": "stream",
     "text": [
      "Generating 6 digit random OTP\n",
      "Secure random OTP is 678382\n"
     ]
    }
   ],
   "source": [
    "print(\"Generating 6 digit random OTP\")\n",
    "\n",
    "OTP = ''.join(secrets.choice(string.digits) for i in range(6))\n",
    "\n",
    "print(f\"Secure random OTP is {OTP}\")"
   ]
  },
  {
   "cell_type": "markdown",
   "metadata": {
    "id": "sRajmF4JGc9C"
   },
   "source": [
    "4.\tPick a random character from a given string such as \"Simulation and modeling\""
   ]
  },
  {
   "cell_type": "code",
   "execution_count": 5,
   "metadata": {},
   "outputs": [
    {
     "name": "stdout",
     "output_type": "stream",
     "text": [
      "random char is l\n"
     ]
    }
   ],
   "source": [
    "def random_char(s):\n",
    "    print(\"random char is\", random.choice(s))\n",
    "\n",
    "random_char(\"Simulation and modeling\")"
   ]
  },
  {
   "cell_type": "markdown",
   "metadata": {
    "id": "LWo72SxJGxOd"
   },
   "source": [
    "5. Import string and random module. Generate a string with 5 characters with UPPER case and lower case letters only. No numbers and a special symbol."
   ]
  },
  {
   "cell_type": "code",
   "execution_count": 6,
   "metadata": {},
   "outputs": [
    {
     "name": "stdout",
     "output_type": "stream",
     "text": [
      "Random String is QzfMZ\n"
     ]
    }
   ],
   "source": [
    "# Create list of all uppercase and lowercase characters.\n",
    "chars = list(string.ascii_uppercase + string.ascii_lowercase)\n",
    "# Shuffle the list.\n",
    "random.shuffle(chars)\n",
    "\n",
    "# Create string with 5 characters from the list\n",
    "random_string = ''.join(random.choice(chars) for i in range(5))\n",
    "\n",
    "print(f\"Random String is {random_string}\")"
   ]
  },
  {
   "cell_type": "markdown",
   "metadata": {
    "id": "7yXtRN6WHYiu"
   },
   "source": [
    "6. Import string and random module. Generate a Password with length 10 which contains 2 upper case letters, 1 digit, and 1 special symbol. "
   ]
  },
  {
   "cell_type": "code",
   "execution_count": 7,
   "metadata": {},
   "outputs": [
    {
     "name": "stdout",
     "output_type": "stream",
     "text": [
      "Password is tx_w2FxPgx\n"
     ]
    }
   ],
   "source": [
    "selection_upper = [random.choice(string.ascii_uppercase) for i in range(2)]  # 2 uppercase letters\n",
    "selection_special = [random.choice(string.punctuation)]  # 1 special symbol\n",
    "selection_digits = [random.choice(string.digits)] # 1 digit\n",
    "selection_lower = [random.choice(string.ascii_lowercase) for i in range(6)]  # 6 lowercase letters\n",
    "selections = selection_upper + selection_special + selection_digits + selection_lower\n",
    "random.shuffle(selections)\n",
    "\n",
    "password = ''.join(selections)\n",
    "print(f\"Password is {password}\")"
   ]
  },
  {
   "cell_type": "markdown",
   "metadata": {
    "id": "b5m0Kv-aIONE"
   },
   "source": [
    "7. First generate evenly spaced values within 0 to 9. Give it new shape 3x3. Then randomly permute it."
   ]
  },
  {
   "cell_type": "code",
   "execution_count": 8,
   "metadata": {
    "colab": {
     "base_uri": "https://localhost:8080/"
    },
    "executionInfo": {
     "elapsed": 16,
     "status": "ok",
     "timestamp": 1648925253827,
     "user": {
      "displayName": "Xiaoli Huan",
      "userId": "12700089891795799701"
     },
     "user_tz": 300
    },
    "id": "lA-_-8aNIYWZ",
    "outputId": "bb6e8298-8608-4077-cd06-9c9d6709c6b2"
   },
   "outputs": [
    {
     "name": "stdout",
     "output_type": "stream",
     "text": [
      "[[3 4 5]\n",
      " [0 1 2]\n",
      " [6 7 8]]\n"
     ]
    }
   ],
   "source": [
    "# Generate evenly spaced values.\n",
    "values = np.arange(0,9)\n",
    "\n",
    "# Reshape to a 3x3 matrix\n",
    "matrix = values.reshape((3,3))\n",
    "\n",
    "# Randomly permute the matrix\n",
    "print(np.random.permutation(matrix))"
   ]
  },
  {
   "cell_type": "markdown",
   "metadata": {
    "id": "A_qKoz0cJs56"
   },
   "source": [
    "8. Generate random secure token of 64 bytes and random URL"
   ]
  },
  {
   "cell_type": "code",
   "execution_count": 9,
   "metadata": {
    "colab": {
     "base_uri": "https://localhost:8080/"
    },
    "executionInfo": {
     "elapsed": 25,
     "status": "ok",
     "timestamp": 1648925253999,
     "user": {
      "displayName": "Xiaoli Huan",
      "userId": "12700089891795799701"
     },
     "user_tz": 300
    },
    "id": "i5Yl9imaKULT",
    "outputId": "bffd0637-e5b0-4a8f-f3ed-c2c291077d2c"
   },
   "outputs": [
    {
     "name": "stdout",
     "output_type": "stream",
     "text": [
      "Random secure Hexadecimal token is 831f36f14cacb2f8511083905abe630fe1f69d301faa8903d6a326f69ec8685af281c178e40f443da290866edbac8383411de43acea55e40a9435380fcfea63e\n",
      "Random secure URL is R2ff7HnE5vAklvlvO4dDFlhxhKkzpNncg06g8wNPk2WM0PKVaFUse6pbrtxt87_wcyB3795zZVjow9nlkRduQQ\n"
     ]
    }
   ],
   "source": [
    "hex_token = secrets.token_hex(64)\n",
    "random_url = secrets.token_urlsafe(64)\n",
    "\n",
    "print(f\"Random secure Hexadecimal token is {hex_token}\")\n",
    "print(f\"Random secure URL is {random_url}\")"
   ]
  },
  {
   "cell_type": "markdown",
   "metadata": {
    "id": "BbqxqvkAKoco"
   },
   "source": [
    "9. Pick a random number from 1 to 6. Do it in such a way that every time you must get the same random output number(no hard coding numbers). do this 5 times."
   ]
  },
  {
   "cell_type": "code",
   "execution_count": 10,
   "metadata": {},
   "outputs": [
    {
     "name": "stdout",
     "output_type": "stream",
     "text": [
      "Randomly selecting same number of a dice\n",
      "4\n",
      "4\n",
      "4\n",
      "4\n",
      "4\n"
     ]
    }
   ],
   "source": [
    "# Get a random float in the range [0.0, 1.0] and set it as the seed in each iteration.\n",
    "print(\"Randomly selecting same number of a dice\")\n",
    "random_seed = random.random()\n",
    "for i in range(5):\n",
    "    random.seed(random_seed)\n",
    "    print(random.randint(1, 6))"
   ]
  },
  {
   "cell_type": "markdown",
   "metadata": {
    "id": "nKU3_whrK193"
   },
   "source": [
    "10. Write an interactive Python program to play a “guess the  number” game. The computer should think of a random integer between  1 and 20 and the user (player) has to try to guess the number within six  attempts. The program should let the player know if the guess is too high or  too low. \n"
   ]
  },
  {
   "cell_type": "code",
   "execution_count": 11,
   "metadata": {},
   "outputs": [
    {
     "name": "stdin",
     "output_type": "stream",
     "text": [
      "Hi! What is your name?  Human\n"
     ]
    },
    {
     "name": "stdout",
     "output_type": "stream",
     "text": [
      "Welcome, Human! I am thinking of an integer between 1 and 20.\n"
     ]
    },
    {
     "name": "stdin",
     "output_type": "stream",
     "text": [
      "Take a guess and type the integer?  4\n"
     ]
    },
    {
     "name": "stdout",
     "output_type": "stream",
     "text": [
      "Your guess is too low\n"
     ]
    },
    {
     "name": "stdin",
     "output_type": "stream",
     "text": [
      "Take a guess and type the integer?  9\n"
     ]
    },
    {
     "name": "stdout",
     "output_type": "stream",
     "text": [
      "Your guess is too high\n"
     ]
    },
    {
     "name": "stdin",
     "output_type": "stream",
     "text": [
      "Take a guess and type the integer?  7\n"
     ]
    },
    {
     "name": "stdout",
     "output_type": "stream",
     "text": [
      "Your guess is too low\n"
     ]
    },
    {
     "name": "stdin",
     "output_type": "stream",
     "text": [
      "Take a guess and type the integer?  8\n"
     ]
    },
    {
     "name": "stdout",
     "output_type": "stream",
     "text": [
      "Well done Human! You guessed my number in 4 guesses!\n"
     ]
    }
   ],
   "source": [
    "# Get name of player\n",
    "player_name = input(\"Hi! What is your name? \")\n",
    "print(f\"Welcome, {player_name}! I am thinking of an integer between 1 and 20.\")\n",
    "\n",
    "# Get random integer in the range [1, 20]\n",
    "number = random.randint(1, 20)\n",
    "attempts = 1\n",
    "\n",
    "while attempts < 6:\n",
    "    guess = int(input(\"Take a guess and type the integer? \"))\n",
    "    if guess < number:\n",
    "        print(\"Your guess is too low\")\n",
    "    elif guess > number:\n",
    "        print(\"Your guess is too high\")\n",
    "    else:\n",
    "        # Make sure the plurality of the word 'guess' matches the number of attempts.\n",
    "        if attempts == 1:\n",
    "            suffix = ''\n",
    "        else:\n",
    "            suffix = 'es'\n",
    "        \n",
    "        print(f\"Well done {player_name}! You guessed my number in {attempts} guess{suffix}!\")\n",
    "        break\n",
    "        \n",
    "    attempts += 1\n",
    "    \n",
    "else:\n",
    "    print(\"Game over! You failed to guess the number within 6 guesses.\")    "
   ]
  }
 ],
 "metadata": {
  "colab": {
   "collapsed_sections": [],
   "name": "homework2_solution.ipynb",
   "provenance": []
  },
  "interpreter": {
   "hash": "c98e05168fa63a48dbdd2a4274fef77cd63f6368d59e4488c10e2ff7243bb6c6"
  },
  "kernelspec": {
   "display_name": "Python 3 (ipykernel)",
   "language": "python",
   "name": "python3"
  },
  "language_info": {
   "codemirror_mode": {
    "name": "ipython",
    "version": 3
   },
   "file_extension": ".py",
   "mimetype": "text/x-python",
   "name": "python",
   "nbconvert_exporter": "python",
   "pygments_lexer": "ipython3",
   "version": "3.10.4"
  }
 },
 "nbformat": 4,
 "nbformat_minor": 4
}
